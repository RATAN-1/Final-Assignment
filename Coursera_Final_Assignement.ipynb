{
  "nbformat": 4,
  "nbformat_minor": 0,
  "metadata": {
    "colab": {
      "provenance": []
    },
    "kernelspec": {
      "name": "python3",
      "display_name": "Python 3"
    },
    "language_info": {
      "name": "python"
    }
  },
  "cells": [
    {
      "cell_type": "code",
      "source": [
        "# My data science notebook"
      ],
      "metadata": {
        "id": "_bdmQcICqMyr"
      },
      "execution_count": 3,
      "outputs": []
    },
    {
      "cell_type": "code",
      "source": [
        "## Welcome to this notebook on data science! In this notebook, we'll explore various aspects of data science and its related languages and libraries."
      ],
      "metadata": {
        "id": "sT9OVbhPqZZY"
      },
      "execution_count": 4,
      "outputs": []
    },
    {
      "cell_type": "code",
      "source": [
        "## python, R, Julia, sql"
      ],
      "metadata": {
        "id": "we52RliJrJTc"
      },
      "execution_count": 8,
      "outputs": []
    },
    {
      "cell_type": "code",
      "source": [
        "## NumPy,pandas, Matplotlib, Seaborn,Scikit-Learn, TensorFlow, PyTorch"
      ],
      "metadata": {
        "id": "xntk8gG3rJJp"
      },
      "execution_count": 9,
      "outputs": []
    },
    {
      "cell_type": "code",
      "source": [
        "# Tool                | Description                             |\n",
        "\n",
        " #Python              | A versatile programming language often used in data science. |\n",
        " #Jupyter Notebook    | An interactive computing environment for data analysis and visualization. |\n",
        " #Pandas              | A powerful library for data manipulation and analysis. |\n",
        " #NumPy               | A fundamental package for scientific computing with Python. |\n",
        " #Scikit-Learn        | A machine learning library for various data science tasks. |\n",
        "#Matplotlib          | A popular data visualization library. |\n",
        " #TensorFlow          | An open-source machine learning framework. |\n",
        " #PyTorch             | An open-source deep learning framework. |\n",
        " #R                   | A programming language for statistical analysis and data visualization. |\n",
        " #Tableau            | A data visualization tool for creating interactive and shareable dashboards. |\n"
      ],
      "metadata": {
        "id": "lqIZG_GNrI80"
      },
      "execution_count": 15,
      "outputs": []
    },
    {
      "cell_type": "code",
      "source": [
        "## In this section, we'll explore various arithmetic expression examples to demonstrate basic mathematical operations such as addition, subtraction, multiplication, and division in Python.\n"
      ],
      "metadata": {
        "id": "dUYDSVoax4Lp"
      },
      "execution_count": 12,
      "outputs": []
    },
    {
      "cell_type": "code",
      "source": [
        "# Multiplication example\n",
        "result_multiply = 5 * 3\n",
        "print(\"Multiplication Result:\", result_multiply)\n",
        "\n",
        "# Addition example\n",
        "result_add = 5 + 3\n",
        "print(\"Addition Result:\", result_add)"
      ],
      "metadata": {
        "colab": {
          "base_uri": "https://localhost:8080/"
        },
        "id": "UvJYlo3ZyWE2",
        "outputId": "7b094113-9e04-4ebe-bd1d-8fa5ec0980b9"
      },
      "execution_count": 16,
      "outputs": [
        {
          "output_type": "stream",
          "name": "stdout",
          "text": [
            "Multiplication Result: 15\n",
            "Addition Result: 8\n"
          ]
        }
      ]
    },
    {
      "cell_type": "code",
      "source": [
        "# Convert minutes to hours\n",
        "minutes = 120\n",
        "hours = minutes / 60\n",
        "print(f\"{minutes} minutes is equal to {hours} hours.\")"
      ],
      "metadata": {
        "colab": {
          "base_uri": "https://localhost:8080/"
        },
        "id": "4zkJARcfyb61",
        "outputId": "1121d8b8-d3b3-49e9-d5e1-3e3e76afdd3f"
      },
      "execution_count": 17,
      "outputs": [
        {
          "output_type": "stream",
          "name": "stdout",
          "text": [
            "120 minutes is equal to 2.0 hours.\n"
          ]
        }
      ]
    },
    {
      "cell_type": "code",
      "source": [
        "## Objectives\n",
        "\n",
        "#1. Introduce commonly used data science tools.\n",
        "#2. Demonstrate arithmetic expression examples in Python.\n",
        "#3. Perform basic mathematical operations (multiplication and addition).\n",
        "#4. Convert minutes to hours.\n",
        "#5. Share the notebook on GitHub.\n",
        "#6. Capture a screenshot of the first page of the notebook."
      ],
      "metadata": {
        "id": "fLvfrBSVygC1"
      },
      "execution_count": 19,
      "outputs": []
    },
    {
      "cell_type": "code",
      "source": [
        "# Author: [Ratan Priya Singh]\n"
      ],
      "metadata": {
        "id": "Z0wOgUgFyvZU"
      },
      "execution_count": 20,
      "outputs": []
    }
  ]
}